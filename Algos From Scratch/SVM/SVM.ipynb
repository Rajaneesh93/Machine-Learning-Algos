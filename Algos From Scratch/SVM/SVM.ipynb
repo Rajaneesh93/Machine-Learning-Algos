{
 "cells": [
  {
   "cell_type": "code",
   "execution_count": 1,
   "metadata": {},
   "outputs": [],
   "source": [
    "import numpy as np\n",
    "import pandas as pd\n",
    "import matplotlib.pyplot as plt\n",
    "%matplotlib inline\n",
    "from sklearn.preprocessing import LabelEncoder\n",
    "from sklearn.model_selection import train_test_split"
   ]
  },
  {
   "cell_type": "code",
   "execution_count": 2,
   "metadata": {},
   "outputs": [
    {
     "data": {
      "text/html": [
       "<div>\n",
       "<style scoped>\n",
       "    .dataframe tbody tr th:only-of-type {\n",
       "        vertical-align: middle;\n",
       "    }\n",
       "\n",
       "    .dataframe tbody tr th {\n",
       "        vertical-align: top;\n",
       "    }\n",
       "\n",
       "    .dataframe thead th {\n",
       "        text-align: right;\n",
       "    }\n",
       "</style>\n",
       "<table border=\"1\" class=\"dataframe\">\n",
       "  <thead>\n",
       "    <tr style=\"text-align: right;\">\n",
       "      <th></th>\n",
       "      <th>type</th>\n",
       "      <th>cap_shape</th>\n",
       "      <th>cap_surface</th>\n",
       "      <th>cap_color</th>\n",
       "      <th>bruises</th>\n",
       "      <th>odor</th>\n",
       "      <th>gill_attachment</th>\n",
       "      <th>gill_spacing</th>\n",
       "      <th>gill_size</th>\n",
       "      <th>gill_color</th>\n",
       "      <th>...</th>\n",
       "      <th>stalk_surface_below_ring</th>\n",
       "      <th>stalk_color_above_ring</th>\n",
       "      <th>stalk_color_below_ring</th>\n",
       "      <th>veil_type</th>\n",
       "      <th>veil_color</th>\n",
       "      <th>ring_number</th>\n",
       "      <th>ring_type</th>\n",
       "      <th>spore_print_color</th>\n",
       "      <th>population</th>\n",
       "      <th>habitat</th>\n",
       "    </tr>\n",
       "  </thead>\n",
       "  <tbody>\n",
       "    <tr>\n",
       "      <th>0</th>\n",
       "      <td>p</td>\n",
       "      <td>x</td>\n",
       "      <td>s</td>\n",
       "      <td>n</td>\n",
       "      <td>t</td>\n",
       "      <td>p</td>\n",
       "      <td>f</td>\n",
       "      <td>c</td>\n",
       "      <td>n</td>\n",
       "      <td>k</td>\n",
       "      <td>...</td>\n",
       "      <td>s</td>\n",
       "      <td>w</td>\n",
       "      <td>w</td>\n",
       "      <td>p</td>\n",
       "      <td>w</td>\n",
       "      <td>o</td>\n",
       "      <td>p</td>\n",
       "      <td>k</td>\n",
       "      <td>s</td>\n",
       "      <td>u</td>\n",
       "    </tr>\n",
       "    <tr>\n",
       "      <th>1</th>\n",
       "      <td>e</td>\n",
       "      <td>x</td>\n",
       "      <td>s</td>\n",
       "      <td>y</td>\n",
       "      <td>t</td>\n",
       "      <td>a</td>\n",
       "      <td>f</td>\n",
       "      <td>c</td>\n",
       "      <td>b</td>\n",
       "      <td>k</td>\n",
       "      <td>...</td>\n",
       "      <td>s</td>\n",
       "      <td>w</td>\n",
       "      <td>w</td>\n",
       "      <td>p</td>\n",
       "      <td>w</td>\n",
       "      <td>o</td>\n",
       "      <td>p</td>\n",
       "      <td>n</td>\n",
       "      <td>n</td>\n",
       "      <td>g</td>\n",
       "    </tr>\n",
       "    <tr>\n",
       "      <th>2</th>\n",
       "      <td>e</td>\n",
       "      <td>b</td>\n",
       "      <td>s</td>\n",
       "      <td>w</td>\n",
       "      <td>t</td>\n",
       "      <td>l</td>\n",
       "      <td>f</td>\n",
       "      <td>c</td>\n",
       "      <td>b</td>\n",
       "      <td>n</td>\n",
       "      <td>...</td>\n",
       "      <td>s</td>\n",
       "      <td>w</td>\n",
       "      <td>w</td>\n",
       "      <td>p</td>\n",
       "      <td>w</td>\n",
       "      <td>o</td>\n",
       "      <td>p</td>\n",
       "      <td>n</td>\n",
       "      <td>n</td>\n",
       "      <td>m</td>\n",
       "    </tr>\n",
       "    <tr>\n",
       "      <th>3</th>\n",
       "      <td>p</td>\n",
       "      <td>x</td>\n",
       "      <td>y</td>\n",
       "      <td>w</td>\n",
       "      <td>t</td>\n",
       "      <td>p</td>\n",
       "      <td>f</td>\n",
       "      <td>c</td>\n",
       "      <td>n</td>\n",
       "      <td>n</td>\n",
       "      <td>...</td>\n",
       "      <td>s</td>\n",
       "      <td>w</td>\n",
       "      <td>w</td>\n",
       "      <td>p</td>\n",
       "      <td>w</td>\n",
       "      <td>o</td>\n",
       "      <td>p</td>\n",
       "      <td>k</td>\n",
       "      <td>s</td>\n",
       "      <td>u</td>\n",
       "    </tr>\n",
       "    <tr>\n",
       "      <th>4</th>\n",
       "      <td>e</td>\n",
       "      <td>x</td>\n",
       "      <td>s</td>\n",
       "      <td>g</td>\n",
       "      <td>f</td>\n",
       "      <td>n</td>\n",
       "      <td>f</td>\n",
       "      <td>w</td>\n",
       "      <td>b</td>\n",
       "      <td>k</td>\n",
       "      <td>...</td>\n",
       "      <td>s</td>\n",
       "      <td>w</td>\n",
       "      <td>w</td>\n",
       "      <td>p</td>\n",
       "      <td>w</td>\n",
       "      <td>o</td>\n",
       "      <td>e</td>\n",
       "      <td>n</td>\n",
       "      <td>a</td>\n",
       "      <td>g</td>\n",
       "    </tr>\n",
       "  </tbody>\n",
       "</table>\n",
       "<p>5 rows × 23 columns</p>\n",
       "</div>"
      ],
      "text/plain": [
       "  type cap_shape cap_surface cap_color bruises odor gill_attachment  \\\n",
       "0    p         x           s         n       t    p               f   \n",
       "1    e         x           s         y       t    a               f   \n",
       "2    e         b           s         w       t    l               f   \n",
       "3    p         x           y         w       t    p               f   \n",
       "4    e         x           s         g       f    n               f   \n",
       "\n",
       "  gill_spacing gill_size gill_color   ...   stalk_surface_below_ring  \\\n",
       "0            c         n          k   ...                          s   \n",
       "1            c         b          k   ...                          s   \n",
       "2            c         b          n   ...                          s   \n",
       "3            c         n          n   ...                          s   \n",
       "4            w         b          k   ...                          s   \n",
       "\n",
       "  stalk_color_above_ring stalk_color_below_ring veil_type veil_color  \\\n",
       "0                      w                      w         p          w   \n",
       "1                      w                      w         p          w   \n",
       "2                      w                      w         p          w   \n",
       "3                      w                      w         p          w   \n",
       "4                      w                      w         p          w   \n",
       "\n",
       "  ring_number ring_type spore_print_color population habitat  \n",
       "0           o         p                 k          s       u  \n",
       "1           o         p                 n          n       g  \n",
       "2           o         p                 n          n       m  \n",
       "3           o         p                 k          s       u  \n",
       "4           o         e                 n          a       g  \n",
       "\n",
       "[5 rows x 23 columns]"
      ]
     },
     "execution_count": 2,
     "metadata": {},
     "output_type": "execute_result"
    }
   ],
   "source": [
    "ds = pd.read_csv('./mushrooms.csv')\n",
    "ds.head()"
   ]
  },
  {
   "cell_type": "code",
   "execution_count": 3,
   "metadata": {},
   "outputs": [
    {
     "data": {
      "text/html": [
       "<div>\n",
       "<style scoped>\n",
       "    .dataframe tbody tr th:only-of-type {\n",
       "        vertical-align: middle;\n",
       "    }\n",
       "\n",
       "    .dataframe tbody tr th {\n",
       "        vertical-align: top;\n",
       "    }\n",
       "\n",
       "    .dataframe thead th {\n",
       "        text-align: right;\n",
       "    }\n",
       "</style>\n",
       "<table border=\"1\" class=\"dataframe\">\n",
       "  <thead>\n",
       "    <tr style=\"text-align: right;\">\n",
       "      <th></th>\n",
       "      <th>type</th>\n",
       "      <th>cap_shape</th>\n",
       "      <th>cap_surface</th>\n",
       "      <th>cap_color</th>\n",
       "      <th>bruises</th>\n",
       "      <th>odor</th>\n",
       "      <th>gill_attachment</th>\n",
       "      <th>gill_spacing</th>\n",
       "      <th>gill_size</th>\n",
       "      <th>gill_color</th>\n",
       "      <th>...</th>\n",
       "      <th>stalk_surface_below_ring</th>\n",
       "      <th>stalk_color_above_ring</th>\n",
       "      <th>stalk_color_below_ring</th>\n",
       "      <th>veil_type</th>\n",
       "      <th>veil_color</th>\n",
       "      <th>ring_number</th>\n",
       "      <th>ring_type</th>\n",
       "      <th>spore_print_color</th>\n",
       "      <th>population</th>\n",
       "      <th>habitat</th>\n",
       "    </tr>\n",
       "  </thead>\n",
       "  <tbody>\n",
       "    <tr>\n",
       "      <th>0</th>\n",
       "      <td>1</td>\n",
       "      <td>5</td>\n",
       "      <td>2</td>\n",
       "      <td>4</td>\n",
       "      <td>1</td>\n",
       "      <td>6</td>\n",
       "      <td>1</td>\n",
       "      <td>0</td>\n",
       "      <td>1</td>\n",
       "      <td>4</td>\n",
       "      <td>...</td>\n",
       "      <td>2</td>\n",
       "      <td>7</td>\n",
       "      <td>7</td>\n",
       "      <td>0</td>\n",
       "      <td>2</td>\n",
       "      <td>1</td>\n",
       "      <td>4</td>\n",
       "      <td>2</td>\n",
       "      <td>3</td>\n",
       "      <td>5</td>\n",
       "    </tr>\n",
       "    <tr>\n",
       "      <th>1</th>\n",
       "      <td>0</td>\n",
       "      <td>5</td>\n",
       "      <td>2</td>\n",
       "      <td>9</td>\n",
       "      <td>1</td>\n",
       "      <td>0</td>\n",
       "      <td>1</td>\n",
       "      <td>0</td>\n",
       "      <td>0</td>\n",
       "      <td>4</td>\n",
       "      <td>...</td>\n",
       "      <td>2</td>\n",
       "      <td>7</td>\n",
       "      <td>7</td>\n",
       "      <td>0</td>\n",
       "      <td>2</td>\n",
       "      <td>1</td>\n",
       "      <td>4</td>\n",
       "      <td>3</td>\n",
       "      <td>2</td>\n",
       "      <td>1</td>\n",
       "    </tr>\n",
       "    <tr>\n",
       "      <th>2</th>\n",
       "      <td>0</td>\n",
       "      <td>0</td>\n",
       "      <td>2</td>\n",
       "      <td>8</td>\n",
       "      <td>1</td>\n",
       "      <td>3</td>\n",
       "      <td>1</td>\n",
       "      <td>0</td>\n",
       "      <td>0</td>\n",
       "      <td>5</td>\n",
       "      <td>...</td>\n",
       "      <td>2</td>\n",
       "      <td>7</td>\n",
       "      <td>7</td>\n",
       "      <td>0</td>\n",
       "      <td>2</td>\n",
       "      <td>1</td>\n",
       "      <td>4</td>\n",
       "      <td>3</td>\n",
       "      <td>2</td>\n",
       "      <td>3</td>\n",
       "    </tr>\n",
       "    <tr>\n",
       "      <th>3</th>\n",
       "      <td>1</td>\n",
       "      <td>5</td>\n",
       "      <td>3</td>\n",
       "      <td>8</td>\n",
       "      <td>1</td>\n",
       "      <td>6</td>\n",
       "      <td>1</td>\n",
       "      <td>0</td>\n",
       "      <td>1</td>\n",
       "      <td>5</td>\n",
       "      <td>...</td>\n",
       "      <td>2</td>\n",
       "      <td>7</td>\n",
       "      <td>7</td>\n",
       "      <td>0</td>\n",
       "      <td>2</td>\n",
       "      <td>1</td>\n",
       "      <td>4</td>\n",
       "      <td>2</td>\n",
       "      <td>3</td>\n",
       "      <td>5</td>\n",
       "    </tr>\n",
       "    <tr>\n",
       "      <th>4</th>\n",
       "      <td>0</td>\n",
       "      <td>5</td>\n",
       "      <td>2</td>\n",
       "      <td>3</td>\n",
       "      <td>0</td>\n",
       "      <td>5</td>\n",
       "      <td>1</td>\n",
       "      <td>1</td>\n",
       "      <td>0</td>\n",
       "      <td>4</td>\n",
       "      <td>...</td>\n",
       "      <td>2</td>\n",
       "      <td>7</td>\n",
       "      <td>7</td>\n",
       "      <td>0</td>\n",
       "      <td>2</td>\n",
       "      <td>1</td>\n",
       "      <td>0</td>\n",
       "      <td>3</td>\n",
       "      <td>0</td>\n",
       "      <td>1</td>\n",
       "    </tr>\n",
       "  </tbody>\n",
       "</table>\n",
       "<p>5 rows × 23 columns</p>\n",
       "</div>"
      ],
      "text/plain": [
       "   type  cap_shape  cap_surface  cap_color  bruises  odor  gill_attachment  \\\n",
       "0     1          5            2          4        1     6                1   \n",
       "1     0          5            2          9        1     0                1   \n",
       "2     0          0            2          8        1     3                1   \n",
       "3     1          5            3          8        1     6                1   \n",
       "4     0          5            2          3        0     5                1   \n",
       "\n",
       "   gill_spacing  gill_size  gill_color   ...     stalk_surface_below_ring  \\\n",
       "0             0          1           4   ...                            2   \n",
       "1             0          0           4   ...                            2   \n",
       "2             0          0           5   ...                            2   \n",
       "3             0          1           5   ...                            2   \n",
       "4             1          0           4   ...                            2   \n",
       "\n",
       "   stalk_color_above_ring  stalk_color_below_ring  veil_type  veil_color  \\\n",
       "0                       7                       7          0           2   \n",
       "1                       7                       7          0           2   \n",
       "2                       7                       7          0           2   \n",
       "3                       7                       7          0           2   \n",
       "4                       7                       7          0           2   \n",
       "\n",
       "   ring_number  ring_type  spore_print_color  population  habitat  \n",
       "0            1          4                  2           3        5  \n",
       "1            1          4                  3           2        1  \n",
       "2            1          4                  3           2        3  \n",
       "3            1          4                  2           3        5  \n",
       "4            1          0                  3           0        1  \n",
       "\n",
       "[5 rows x 23 columns]"
      ]
     },
     "execution_count": 3,
     "metadata": {},
     "output_type": "execute_result"
    }
   ],
   "source": [
    "le = LabelEncoder()\n",
    "df = ds.apply(le.fit_transform)\n",
    "df.head()"
   ]
  },
  {
   "cell_type": "code",
   "execution_count": 4,
   "metadata": {},
   "outputs": [
    {
     "name": "stdout",
     "output_type": "stream",
     "text": [
      "[[0 2 0 ... 3 4 0]\n",
      " [1 2 3 ... 7 4 0]\n",
      " [1 3 3 ... 7 4 4]\n",
      " ...\n",
      " [0 2 3 ... 2 5 4]\n",
      " [0 2 3 ... 7 1 6]\n",
      " [1 3 2 ... 7 4 4]]\n"
     ]
    }
   ],
   "source": [
    "data = df.values\n",
    "data = np.array(data)\n",
    "np.random.shuffle(data)\n",
    "print data"
   ]
  },
  {
   "cell_type": "code",
   "execution_count": 5,
   "metadata": {},
   "outputs": [
    {
     "name": "stdout",
     "output_type": "stream",
     "text": [
      "(200, 22)\n",
      "(200,)\n",
      "[[2 0 4 ... 3 4 0]\n",
      " [2 3 4 ... 7 4 0]\n",
      " [3 3 2 ... 7 4 4]\n",
      " ...\n",
      " [0 2 3 ... 7 2 1]\n",
      " [5 2 4 ... 7 4 0]\n",
      " [5 0 2 ... 2 5 0]]\n",
      "[-1  1  1  1 -1 -1 -1  1 -1 -1 -1 -1  1 -1  1  1 -1 -1  1  1  1  1 -1  1\n",
      " -1 -1 -1 -1 -1 -1  1 -1 -1  1 -1 -1  1 -1 -1 -1 -1 -1 -1 -1 -1 -1  1 -1\n",
      " -1  1  1  1  1 -1  1 -1 -1  1 -1 -1  1  1  1  1 -1  1  1 -1 -1 -1 -1  1\n",
      "  1 -1 -1  1 -1  1 -1 -1 -1  1  1 -1 -1  1  1  1 -1 -1 -1  1 -1 -1 -1  1\n",
      "  1 -1 -1 -1 -1  1  1 -1  1 -1 -1 -1 -1 -1 -1 -1  1  1 -1  1  1  1  1  1\n",
      "  1 -1 -1 -1  1  1  1 -1 -1 -1 -1  1 -1 -1  1 -1  1  1 -1  1  1 -1 -1 -1\n",
      " -1 -1  1  1 -1 -1 -1  1 -1  1 -1 -1 -1  1  1  1  1 -1 -1  1  1  1 -1  1\n",
      "  1  1 -1 -1 -1 -1 -1 -1  1 -1 -1  1  1  1 -1 -1  1 -1  1  1 -1 -1 -1  1\n",
      " -1 -1  1 -1 -1 -1  1 -1]\n"
     ]
    }
   ],
   "source": [
    "x = data[:200,1:]\n",
    "y = data[:200,0]\n",
    "y[y==0]=-1\n",
    "print(x.shape)\n",
    "print(y.shape)\n",
    "print x\n",
    "print y"
   ]
  },
  {
   "cell_type": "code",
   "execution_count": 6,
   "metadata": {},
   "outputs": [],
   "source": [
    "x_train, x_test, y_train, y_test = train_test_split(x,y,test_size=0.2)"
   ]
  },
  {
   "cell_type": "code",
   "execution_count": 7,
   "metadata": {},
   "outputs": [
    {
     "name": "stdout",
     "output_type": "stream",
     "text": [
      "(160, 22)\n",
      "(40, 22)\n",
      "(160,)\n",
      "(40,)\n"
     ]
    }
   ],
   "source": [
    "print(x_train.shape)\n",
    "print(x_test.shape)\n",
    "print(y_train.shape)\n",
    "print(y_test.shape)"
   ]
  },
  {
   "cell_type": "code",
   "execution_count": 8,
   "metadata": {},
   "outputs": [
    {
     "name": "stdout",
     "output_type": "stream",
     "text": [
      "(160,)\n",
      "[32.47526808 21.32722933 23.56433202 28.69060942 34.40010036 31.71129348\n",
      " 35.51600979 25.56322163 33.26405107 21.26195066 29.97339264 29.9742875\n",
      " 27.79689235 27.01261885 35.2687053  28.68785827 32.09933588 27.17471245\n",
      " 33.80413197 22.7948838  29.46266256 25.37191528 21.382717   40.77248538\n",
      " 33.70611657 36.44185648 26.83313608 27.98610981 22.52967296 35.45623211\n",
      " 31.97414908 30.01057106 30.08438437 33.86321883 37.16929149 26.93135122\n",
      " 25.60883694 26.06259772 34.51484661 32.8669954  35.07836068 24.68954241\n",
      " 28.09713013 26.21839357 32.7446701  30.42927342 38.85256957 28.27764433\n",
      " 24.08697358 30.64300994 28.17524568 24.5839474  30.28344654 37.52467697\n",
      " 37.09609809 30.79916706 25.65591861 29.93007603 26.47956529 26.66709209\n",
      " 33.5267157  35.17567448 38.0630343  28.76335984 30.30757247 30.55325749\n",
      " 24.87906969 27.64386626 22.79103338 29.39596674 25.32085408 17.453042\n",
      " 24.62552705 30.61311087 40.21207576 25.27648822 31.53815506 28.35101766\n",
      " 27.36174551 25.52321616 33.01864828 23.81917887 28.90321368 25.04443567\n",
      " 31.21195586 34.81840923 28.06805551 22.27450885 23.39640815 27.42257764\n",
      " 32.01370596 30.58242252 27.98426099 26.85396504 26.67639516 25.30437938\n",
      " 37.43037716 26.10219294 26.13657719 32.13028761 22.34628666 32.48871076\n",
      " 36.80172302 31.58808394 20.19058029 25.45355653 26.38048638 35.75222948\n",
      " 26.89678325 35.34788248 26.90655955 25.8375601  36.85900818 30.36478729\n",
      " 31.15795038 35.06508841 34.60438735 24.11674535 30.91475888 21.00963009\n",
      " 30.68992141 24.04365083 25.83518919 30.33559909 34.32860529 22.98350426\n",
      " 34.48090862 35.32734131 16.86928438 31.61204453 21.73324496 36.34223939\n",
      " 27.37656597 32.07596371 30.06047521 34.61659733 37.82690304 31.01902803\n",
      " 31.28935376 32.59949931 21.41402272 27.23423186 34.33752418 27.57691899\n",
      " 21.82951923 29.10844236 22.36424285 29.37883164 33.30418292 29.1660644\n",
      " 26.9086309  33.75738178 25.86354142 32.16167588 26.63656714 31.38959754\n",
      " 42.77759096 30.98665795 26.47463515 33.14756804]\n",
      "[-1  1 -1  1 -1 -1  1 -1 -1  1  1  1  1 -1 -1  1 -1  1  1  1 -1  1  1  1\n",
      " -1 -1 -1  1  1 -1 -1 -1  1 -1 -1  1  1  1 -1 -1 -1 -1  1 -1 -1 -1 -1  1\n",
      "  1 -1  1  1 -1 -1 -1 -1  1  1 -1 -1 -1  1 -1 -1  1 -1 -1  1  1 -1  1  1\n",
      " -1 -1  1  1 -1 -1  1  1 -1  1 -1  1 -1 -1 -1  1  1  1 -1 -1 -1  1 -1  1\n",
      " -1 -1 -1 -1  1 -1 -1 -1  1  1 -1 -1  1 -1  1 -1  1  1 -1 -1 -1 -1 -1  1\n",
      "  1  1  1 -1 -1  1 -1 -1  1 -1  1 -1  1 -1 -1 -1 -1 -1 -1 -1  1  1 -1  1\n",
      "  1 -1  1 -1 -1 -1 -1 -1 -1 -1  1 -1  1 -1  1 -1]\n"
     ]
    }
   ],
   "source": [
    "def hypothesis(w, x, b):\n",
    "    return np.dot(w,x.T)+b\n",
    "res = hypothesis(np.random.random((22,)),x_train,0)\n",
    "print res.shape\n",
    "print res\n",
    "print y_train"
   ]
  },
  {
   "cell_type": "code",
   "execution_count": 9,
   "metadata": {},
   "outputs": [
    {
     "name": "stdout",
     "output_type": "stream",
     "text": [
      "4115.758336870359\n"
     ]
    }
   ],
   "source": [
    "def hingeLoss(w, x, b, y):\n",
    "        loss = 0\n",
    "        ## |w|^2 = w * w.T\n",
    "        loss += 0.5*np.dot(w,w.T)\n",
    "        ti = np.multiply(y,hypothesis(w,x,b))\n",
    "#         print ti.shape\n",
    "#         print ti\n",
    "        ti = 1-ti\n",
    "#         print ti\n",
    "        ## only keeping ti>0\n",
    "        ti = ti[ti>0]\n",
    "#         print ti\n",
    "        loss += np.sum(ti)\n",
    "        return loss\n",
    "print hingeLoss(np.random.random((22,)),x_train,10,y_train)"
   ]
  },
  {
   "cell_type": "code",
   "execution_count": 10,
   "metadata": {
    "scrolled": false
   },
   "outputs": [],
   "source": [
    "def fit(x, y, learning_rate=0.001,n_epochs=500):\n",
    "    n_features = x.shape[1]\n",
    "    n_samples = x.shape[0]\n",
    "    w = np.random.random((n_features,))\n",
    "    b = 0.0\n",
    "    c = 1.0\n",
    "    losses = []\n",
    "    for epoch in range(n_epochs):\n",
    "        l = hingeLoss(w, x, b, y)\n",
    "#         print l\n",
    "        losses.append(l)\n",
    "        gradw = np.zeros((n_features,))\n",
    "        gradb = 0\n",
    "        ti = np.multiply(y, hypothesis(w, x, b))\n",
    "        for ix in range(n_features):\n",
    "            for jx in range(ti.shape[0]):\n",
    "                if ti[jx]>1:\n",
    "                    gradw[ix] += 0\n",
    "                    gradb += 0\n",
    "                else:\n",
    "                    gradw[ix] += c*x[jx][ix]*y[jx]\n",
    "                    gradb += c*y[jx]\n",
    "        w = w - learning_rate*w + learning_rate*gradw\n",
    "        b = b + learning_rate*gradb        \n",
    "    return w,b\n",
    "wf,bf = fit(x_train,y_train)"
   ]
  },
  {
   "cell_type": "code",
   "execution_count": 11,
   "metadata": {},
   "outputs": [
    {
     "name": "stdout",
     "output_type": "stream",
     "text": [
      "0.875\n"
     ]
    }
   ],
   "source": [
    "def accuracy(x,y):\n",
    "    hx = hypothesis(wf, x, bf)\n",
    "    hx[hx>=0]=1\n",
    "    hx[hx<0]=-1\n",
    "    print float(hx[hx==y].shape[0])/y.shape[0]\n",
    "accuracy(x_test,y_test)"
   ]
  },
  {
   "cell_type": "code",
   "execution_count": 12,
   "metadata": {},
   "outputs": [],
   "source": [
    "from sklearn.svm import SVC"
   ]
  },
  {
   "cell_type": "code",
   "execution_count": 13,
   "metadata": {},
   "outputs": [
    {
     "data": {
      "text/plain": [
       "0.975"
      ]
     },
     "execution_count": 13,
     "metadata": {},
     "output_type": "execute_result"
    }
   ],
   "source": [
    "clf = SVC()\n",
    "clf.fit(x_train,y_train)\n",
    "clf.score(x_test,y_test)"
   ]
  },
  {
   "cell_type": "code",
   "execution_count": 14,
   "metadata": {},
   "outputs": [],
   "source": [
    "class SVM:\n",
    "    def __init__(self,c=1.0):\n",
    "        self.c = c\n",
    "        self.w = np.random.random((x.shape[1]))\n",
    "        self.b = 0\n",
    "    def hypothesis(self, w, x, b):\n",
    "        return np.dot(w,x.T)+b\n",
    "    def hingeLoss(self, w, x, b, y):\n",
    "        loss = 0\n",
    "        ## |w|^2 = w * w.T\n",
    "        loss += 0.5*np.dot(w,w.T)\n",
    "        ti = np.multiply(y,hypothesis(w,x,b))\n",
    "#         print ti.shape\n",
    "#         print ti\n",
    "        ti = 1-ti\n",
    "#         print ti\n",
    "        ## only keeping ti>0\n",
    "        ti = ti[ti>0]\n",
    "#         print ti\n",
    "        loss += np.sum(ti)\n",
    "        return loss\n",
    "    def fit(self,x, y, batch_size=100, learning_rate=0.001,n_epochs=100):\n",
    "        n_features = x.shape[1]\n",
    "        n_samples = x.shape[0]\n",
    "        self.c = 1.0\n",
    "        losses = []\n",
    "        for epoch in range(n_epochs):\n",
    "            l = self.hingeLoss(self.w, x, self.b, y)\n",
    "#             print l\n",
    "            losses.append(l)\n",
    "            for b1 in range(0,n_samples,batch_size):\n",
    "                x1 = x[b1:b1+batch_size]\n",
    "                y1 = y[b1:b1+batch_size]\n",
    "                gradw = np.zeros((n_features,))\n",
    "                gradb = 0\n",
    "                ti = np.multiply(y1, self.hypothesis(self.w, x1, self.b))\n",
    "#             print ti\n",
    "                for ix in range(n_features):\n",
    "                    for jx in range(ti.shape[0]):\n",
    "                        if ti[jx]>=1:\n",
    "                            gradw[ix] += 0\n",
    "                            gradb += 0\n",
    "                        else:\n",
    "                            gradw[ix] += self.c*x1[jx][ix]*y1[jx]\n",
    "                            gradb += self.c*y1[jx]\n",
    "#             print gradw\n",
    "#             print gradb\n",
    "                self.w = self.w - learning_rate*self.w + learning_rate*gradw\n",
    "                self.b = self.b + learning_rate*gradb        \n",
    "#             print w,b\n",
    "    def accuracy(self,x,y):\n",
    "        hx = hypothesis(self.w, x, self.b)\n",
    "        hx[hx>=0]=1\n",
    "        hx[hx<0]=-1\n",
    "        return float(hx[hx==y].shape[0])/y.shape[0]"
   ]
  },
  {
   "cell_type": "code",
   "execution_count": 15,
   "metadata": {},
   "outputs": [],
   "source": [
    "svm = SVM(c=10.0)"
   ]
  },
  {
   "cell_type": "code",
   "execution_count": 16,
   "metadata": {},
   "outputs": [],
   "source": [
    "svm.fit(x_train,y_train,n_epochs=500)"
   ]
  },
  {
   "cell_type": "code",
   "execution_count": 17,
   "metadata": {},
   "outputs": [
    {
     "data": {
      "text/plain": [
       "0.975"
      ]
     },
     "execution_count": 17,
     "metadata": {},
     "output_type": "execute_result"
    }
   ],
   "source": [
    "svm.accuracy(x_test,y_test)"
   ]
  },
  {
   "cell_type": "code",
   "execution_count": 18,
   "metadata": {},
   "outputs": [],
   "source": [
    "svm1 = SVM(c=0.0)"
   ]
  },
  {
   "cell_type": "code",
   "execution_count": 19,
   "metadata": {},
   "outputs": [],
   "source": [
    "svm1.fit(x_train,y_train,n_epochs=500)"
   ]
  },
  {
   "cell_type": "code",
   "execution_count": 20,
   "metadata": {},
   "outputs": [
    {
     "data": {
      "text/plain": [
       "0.95"
      ]
     },
     "execution_count": 20,
     "metadata": {},
     "output_type": "execute_result"
    }
   ],
   "source": [
    "svm1.accuracy(x_test,y_test)"
   ]
  },
  {
   "cell_type": "code",
   "execution_count": null,
   "metadata": {},
   "outputs": [],
   "source": []
  },
  {
   "cell_type": "code",
   "execution_count": null,
   "metadata": {},
   "outputs": [],
   "source": []
  },
  {
   "cell_type": "code",
   "execution_count": null,
   "metadata": {},
   "outputs": [],
   "source": []
  },
  {
   "cell_type": "code",
   "execution_count": null,
   "metadata": {},
   "outputs": [],
   "source": []
  }
 ],
 "metadata": {
  "kernelspec": {
   "display_name": "Python 2",
   "language": "python",
   "name": "python2"
  },
  "language_info": {
   "codemirror_mode": {
    "name": "ipython",
    "version": 2
   },
   "file_extension": ".py",
   "mimetype": "text/x-python",
   "name": "python",
   "nbconvert_exporter": "python",
   "pygments_lexer": "ipython2",
   "version": "2.7.15"
  }
 },
 "nbformat": 4,
 "nbformat_minor": 2
}
